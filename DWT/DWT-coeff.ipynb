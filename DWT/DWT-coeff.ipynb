{
 "cells": [
  {
   "cell_type": "code",
   "execution_count": null,
   "metadata": {},
   "outputs": [
    {
     "name": "stdout",
     "output_type": "stream",
     "text": [
      "Collecting mne\n",
      "  Using cached mne-1.8.0-py3-none-any.whl (7.4 MB)\n",
      "Requirement already satisfied: tqdm in /usr/local/share/pynq-venv/lib/python3.10/site-packages (from mne) (4.64.0)\n",
      "Requirement already satisfied: packaging in /usr/lib/python3/dist-packages (from mne) (21.3)\n",
      "Collecting pooch>=1.5\n",
      "  Using cached pooch-1.8.2-py3-none-any.whl (64 kB)\n",
      "Collecting scipy>=1.9\n",
      "  Using cached scipy-1.14.1.tar.gz (58.6 MB)\n",
      "  Installing build dependencies ... \u001b[?25ldone\n",
      "\u001b[?25h  Getting requirements to build wheel ... \u001b[?25ldone\n",
      "\u001b[?25h  Installing backend dependencies ... \u001b[?25ldone\n",
      "\u001b[?25h  Preparing metadata (pyproject.toml) ... \u001b[?25l-"
     ]
    }
   ],
   "source": [
    "!pip install mne"
   ]
  },
  {
   "cell_type": "code",
   "execution_count": null,
   "metadata": {},
   "outputs": [],
   "source": [
    "!pip install PyWavelets\n",
    "!pip install scipy"
   ]
  },
  {
   "cell_type": "code",
   "execution_count": null,
   "metadata": {},
   "outputs": [],
   "source": [
    "import mne\n",
    "import numpy as np\n",
    "import pandas as pd\n",
    "import pywt\n",
    "from pywt import wavedec\n",
    "import scipy.stats as stats"
   ]
  },
  {
   "cell_type": "code",
   "execution_count": null,
   "metadata": {},
   "outputs": [],
   "source": [
    "raw = mne.io.read_raw_edf(\"1-2.edf\", preload=True)\n",
    "print(raw.info)"
   ]
  },
  {
   "cell_type": "code",
   "execution_count": null,
   "metadata": {},
   "outputs": [],
   "source": [
    "# Sélectionner les 5 premiers canaux EEG\n",
    "#r=raw.pick_channels(raw.ch_names[:5])"
   ]
  },
  {
   "cell_type": "code",
   "execution_count": null,
   "metadata": {},
   "outputs": [],
   "source": [
    "raw.plot()"
   ]
  },
  {
   "cell_type": "code",
   "execution_count": null,
   "metadata": {},
   "outputs": [],
   "source": [
    "%%time\n",
    "rf = raw.filter(0.1,30)"
   ]
  },
  {
   "cell_type": "code",
   "execution_count": null,
   "metadata": {},
   "outputs": [],
   "source": [
    "rf.plot()"
   ]
  },
  {
   "cell_type": "code",
   "execution_count": null,
   "metadata": {},
   "outputs": [],
   "source": [
    "print(rf.info)"
   ]
  },
  {
   "cell_type": "code",
   "execution_count": null,
   "metadata": {},
   "outputs": [],
   "source": [
    "selected_channel_name = rf.info['ch_names']\n",
    "sample_frequency = rf.info['sfreq']\n",
    "epoch_duration = 10"
   ]
  },
  {
   "cell_type": "code",
   "execution_count": null,
   "metadata": {},
   "outputs": [],
   "source": [
    "selected_channel_name"
   ]
  },
  {
   "cell_type": "code",
   "execution_count": null,
   "metadata": {},
   "outputs": [],
   "source": [
    "sample_frequency"
   ]
  },
  {
   "cell_type": "code",
   "execution_count": null,
   "metadata": {},
   "outputs": [],
   "source": [
    "epoch_samples = int(epoch_duration*sample_frequency)"
   ]
  },
  {
   "cell_type": "code",
   "execution_count": null,
   "metadata": {},
   "outputs": [],
   "source": [
    "epoch_samples"
   ]
  },
  {
   "cell_type": "code",
   "execution_count": null,
   "metadata": {},
   "outputs": [],
   "source": [
    "total_epochs = 307200// epoch_samples"
   ]
  },
  {
   "cell_type": "code",
   "execution_count": null,
   "metadata": {},
   "outputs": [],
   "source": [
    "total_epochs"
   ]
  },
  {
   "cell_type": "code",
   "execution_count": null,
   "metadata": {},
   "outputs": [],
   "source": [
    "epochs_matrix = np.zeros((total_epochs, 5, epoch_samples))  # 5 channels"
   ]
  },
  {
   "cell_type": "code",
   "execution_count": null,
   "metadata": {},
   "outputs": [],
   "source": [
    "# Segmenter les données en epochs de 10 secondes\n",
    "events = mne.make_fixed_length_events(rf, duration=epoch_duration)"
   ]
  },
  {
   "cell_type": "code",
   "execution_count": null,
   "metadata": {},
   "outputs": [],
   "source": [
    "# Créer un objet Epochs\n",
    "epochs = mne.Epochs(rf, events, tmin=0, tmax=epoch_duration, baseline=None, detrend=1)"
   ]
  },
  {
   "cell_type": "code",
   "execution_count": null,
   "metadata": {},
   "outputs": [],
   "source": [
    "# Obtenir les données des epochs sous forme de tableau numpy\n",
    "epochs_data = epochs.get_data()"
   ]
  },
  {
   "cell_type": "code",
   "execution_count": null,
   "metadata": {},
   "outputs": [],
   "source": [
    "# Vérifier la forme de la matrice d'epochs\n",
    "print(\"Forme de la matrice d'epochs:\", epochs_data.shape)"
   ]
  },
  {
   "cell_type": "code",
   "execution_count": null,
   "metadata": {},
   "outputs": [],
   "source": [
    "zscores = stats.zscore(epochs_data)"
   ]
  },
  {
   "cell_type": "code",
   "execution_count": null,
   "metadata": {},
   "outputs": [],
   "source": [
    "zscores.shape"
   ]
  },
  {
   "cell_type": "code",
   "execution_count": null,
   "metadata": {},
   "outputs": [],
   "source": [
    "# Définition de la famille d'ondelettes à utiliser\n",
    "wavelet = 'db4'\n",
    "\n",
    "# Initialisation des tableaux pour stocker les caractéristiques\n",
    "cD_Energy = np.zeros((59, 5))\n",
    "cA_Energy = np.zeros((59, 5))\n",
    "D_Entropy = np.zeros((59, 5))\n",
    "A_Entropy = np.zeros((59, 5))\n",
    "D_mean = np.zeros((59, 5))\n",
    "A_mean = np.zeros((59, 5))\n",
    "D_std = np.zeros((59, 5))\n",
    "A_std = np.zeros((59, 5))"
   ]
  },
  {
   "cell_type": "code",
   "execution_count": null,
   "metadata": {},
   "outputs": [],
   "source": [
    "%%time\n",
    "for i in range(59):\n",
    "  for j in range(5):\n",
    "    coeffs = pywt.wavedec(zscores[i, j, :], wavelet)  # Calcul de la DWT avec pywt\n",
    "    cD_Energy[i,j] = np.mean([np.sum(np.square(coeffs[5])),np.sum(np.square(coeffs[4])),\n",
    "                         np.sum(np.square(coeffs[3])),np.sum(np.square(coeffs[2])),\n",
    "                         np.sum(np.square(coeffs[1]))])\n",
    "    cA_Energy[i,j] = np.sum(np.square(coeffs[0]))\n",
    "    D_Entropy[i,j] = np.mean([np.sum(np.square(coeffs[5]) * np.log(np.square(coeffs[5]))),\n",
    "                         np.sum(np.square(coeffs[4]) * np.log(np.square(coeffs[4]))),\n",
    "                         np.sum(np.square(coeffs[3]) * np.log(np.square(coeffs[3]))),\n",
    "                         np.sum(np.square(coeffs[2]) * np.log(np.square(coeffs[2]))),\n",
    "                         np.sum(np.square(coeffs[1]) * np.log(np.square(coeffs[1])))])\n",
    "    A_Entropy[i,j] = np.sum(np.square(coeffs[0]) * np.log(np.square(coeffs[0])))\n",
    "    D_mean[i,j] = np.mean([np.mean(coeffs[5]),np.mean(coeffs[4]),np.mean(coeffs[3]),np.mean(coeffs[2]),np.mean(coeffs[1])])\n",
    "    A_mean[i,j] = np.mean(coeffs[0])\n",
    "    D_std[i,j] = np.mean([np.std(coeffs[5]),np.std(coeffs[4]),np.std(coeffs[3]),np.std(coeffs[2]),np.std(coeffs[1])])\n",
    "    A_std[i,j] = np.std(coeffs[0])"
   ]
  },
  {
   "cell_type": "markdown",
   "metadata": {},
   "source": [
    "### FPGA implementation part"
   ]
  },
  {
   "cell_type": "code",
   "execution_count": null,
   "metadata": {},
   "outputs": [],
   "source": [
    "from pynq import Overlay\n",
    "from pynq import allocate\n",
    "\n",
    "#overlay = Overlay('yuv_filter_full.bit')\n",
    "overlay = Overlay('design_test_2.bit')\n",
    "\n",
    "# Display the names of the overlay IP blocks\n",
    "print('IP blocks :', list(overlay.ip_dict.keys()))\n",
    "\n",
    "#Define custom IPs and DMAs\n",
    "\n",
    "axi_vhdl_wrapper_ip = overlay.axi_vhdl_wrapper_0\n",
    "\n",
    "dma0 = overlay.axi_dma_0\n",
    "dma0_send = overlay.axi_dma_0.sendchannel\n",
    "dma0_recv = overlay.axi_dma_0.recvchannel\n",
    "\n",
    "#Get register offset of my parameter\n",
    "def get_register_offset(overlay, ip, parameter):\n",
    "    return overlay.ip_dict[ip]['registers'][parameter]['address_offset']\n",
    "\n",
    "#Get parameters's memory offset\n",
    "#print('Parameters address offset :')\n",
    "#addr = get_register_offset(overlay, 'axi_vhdl_wrapper_0', 'Y_scale')\n",
    "#print('Y_Scale =', hex(addr))\n",
    "\n",
    "#axi_vhdl_wrapper_ip.write(0x10, 128) \n",
    "\n",
    "#Start my IPs\n",
    "\n",
    "CONTROL_REGISTER = 0x0\n",
    "axi_vhdl_wrapper_ip.write(CONTROL_REGISTER, 0x81) # 0x81 will set bit 0\n",
    "\n",
    "#Data transfer to DMAs\n",
    "def dma_transfer(input_buffer, output_buffer):\n",
    "    dma0_send.transfer(input_buffer)\n",
    "    dma0_recv.transfer(output_buffer)\n",
    "    dma0_send.wait()\n",
    "    dma0_recv.wait()\n",
    "        \n",
    "#Do the process to filter the image\n",
    "def process_data(in_data):\n",
    "    \n",
    "    #axi_vhdl_wrapper_ip.write(0x10, Y_scale)\n",
    "    \n",
    "    data_size = len(in_data)\n",
    "    \n",
    "    out_data = [0 for y in range(data_size)]\n",
    "    \n",
    "    input_buffer = allocate(shape=(data_size,), dtype=int)\n",
    "    output_buffer = allocate(shape=(data_size,), dtype=int)\n",
    "\n",
    "    for i in range (data_size):\n",
    "        input_buffer[i] = in_data[i]\n",
    "            \n",
    "    dma_transfer(input_buffer, output_buffer)\n",
    "    #dma_transfer(input_buffer, output_buffer)\n",
    "    \n",
    "    for i in range (data_size):\n",
    "        out_data[i] = output_buffer[i] \n",
    "            \n",
    "    return out_data\n",
    "\n",
    "\n",
    "#Compute the duration between \"start\" and \"end\" to get the function execution time\n",
    "import time\n",
    "def get_duration(start, end):\n",
    "    delta_t = round((end - start) * 1000, 1)\n",
    "    print('Duration : {0} ms'.format(delta_t))\n",
    "    return delta_t\n",
    "\n",
    "\n",
    "\n",
    "%%time\n",
    "for i in range(59):\n",
    "  for j in range(5):\n",
    "    coeff = process_data(zscores[i, j, :])\n",
    "    #coeffs = pywt.wavedec(zscores[i, j, :], wavelet)  # Calcul de la DWT avec pywt\n",
    "    cD_Energy[i,j] = np.mean([np.sum(np.square(coeffs[5])),np.sum(np.square(coeffs[4])),\n",
    "                         np.sum(np.square(coeffs[3])),np.sum(np.square(coeffs[2])),\n",
    "                         np.sum(np.square(coeffs[1]))])\n",
    "    cA_Energy[i,j] = np.sum(np.square(coeffs[0]))\n",
    "    D_Entropy[i,j] = np.mean([np.sum(np.square(coeffs[5]) * np.log(np.square(coeffs[5]))),\n",
    "                         np.sum(np.square(coeffs[4]) * np.log(np.square(coeffs[4]))),\n",
    "                         np.sum(np.square(coeffs[3]) * np.log(np.square(coeffs[3]))),\n",
    "                         np.sum(np.square(coeffs[2]) * np.log(np.square(coeffs[2]))),\n",
    "                         np.sum(np.square(coeffs[1]) * np.log(np.square(coeffs[1])))])\n",
    "    A_Entropy[i,j] = np.sum(np.square(coeffs[0]) * np.log(np.square(coeffs[0])))\n",
    "    D_mean[i,j] = np.mean([np.mean(coeffs[5]),np.mean(coeffs[4]),np.mean(coeffs[3]),np.mean(coeffs[2]),np.mean(coeffs[1])])\n",
    "    A_mean[i,j] = np.mean(coeffs[0])\n",
    "    D_std[i,j] = np.mean([np.std(coeffs[5]),np.std(coeffs[4]),np.std(coeffs[3]),np.std(coeffs[2]),np.std(coeffs[1])])\n",
    "    A_std[i,j] = np.std(coeffs[0])"
   ]
  },
  {
   "cell_type": "code",
   "execution_count": null,
   "metadata": {},
   "outputs": [],
   "source": [
    "df = pd.DataFrame(cD_Energy)\n",
    "df1 = pd.DataFrame(cA_Energy)\n",
    "df2 = pd.DataFrame(D_Entropy)\n",
    "df3 = pd.DataFrame(A_Entropy)\n",
    "df4 = pd.DataFrame(D_mean)\n",
    "df5 = pd.DataFrame(A_mean)\n",
    "df6 = pd.DataFrame(D_std)\n",
    "df7 = pd.DataFrame(A_std)"
   ]
  },
  {
   "cell_type": "code",
   "execution_count": null,
   "metadata": {},
   "outputs": [],
   "source": [
    "ddd = pd.concat([df,df1,df2,df3,df4,df5,df6,df7], axis = 1)"
   ]
  },
  {
   "cell_type": "code",
   "execution_count": null,
   "metadata": {},
   "outputs": [],
   "source": [
    "ddd"
   ]
  }
 ],
 "metadata": {
  "kernelspec": {
   "display_name": "Python 3 (ipykernel)",
   "language": "python",
   "name": "python3"
  },
  "language_info": {
   "codemirror_mode": {
    "name": "ipython",
    "version": 3
   },
   "file_extension": ".py",
   "mimetype": "text/x-python",
   "name": "python",
   "nbconvert_exporter": "python",
   "pygments_lexer": "ipython3",
   "version": "3.10.4"
  }
 },
 "nbformat": 4,
 "nbformat_minor": 2
}
